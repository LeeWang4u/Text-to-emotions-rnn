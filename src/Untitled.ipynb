{
 "cells": [
  {
   "cell_type": "code",
   "execution_count": 49,
   "id": "53111096-1f8a-413d-b398-3e9bd372de21",
   "metadata": {},
   "outputs": [],
   "source": [
    "import tensorflow as tf\n",
    "from tensorflow.keras.preprocessing.text import Tokenizer\n",
    "from tensorflow.keras.preprocessing.sequence import pad_sequences\n",
    "from tensorflow.keras.utils import to_categorical\n",
    "\n",
    "from sklearn.preprocessing import LabelEncoder\n",
    "import pandas as pd\n",
    "import numpy as np\n",
    "\n",
    "import nltk\n",
    "from nltk.corpus import stopwords\n",
    "from nltk.stem import SnowballStemmer, WordNetLemmatizer\n",
    "\n",
    "import re\n",
    "\n",
    "path_test_txt = '../data/test.txt'\n",
    "path_train_txt = '../data/train.txt'\n",
    "path_val_txt = '../data/val.txt'\n",
    "\n",
    "path_glove_txt = '../data/glove.6B.200d.txt'\n",
    "\n",
    "path_model_keras = '../models/t2es.keras'\n",
    "path_model_saved = '../models/t2es_rnn_tf'\n",
    "# path_model_tflite = '../models/t2es_rnn.tflite'"
   ]
  },
  {
   "cell_type": "code",
   "execution_count": 50,
   "id": "2276158b-f533-4a71-b2a5-06eaf14018a5",
   "metadata": {},
   "outputs": [
    {
     "name": "stderr",
     "output_type": "stream",
     "text": [
      "[nltk_data] Downloading package stopwords to\n",
      "[nltk_data]     C:\\Users\\LAPTOP\\AppData\\Roaming\\nltk_data...\n",
      "[nltk_data]   Package stopwords is already up-to-date!\n",
      "[nltk_data] Downloading package wordnet to\n",
      "[nltk_data]     C:\\Users\\LAPTOP\\AppData\\Roaming\\nltk_data...\n",
      "[nltk_data]   Package wordnet is already up-to-date!\n",
      "[nltk_data] Downloading package omw-1.4 to\n",
      "[nltk_data]     C:\\Users\\LAPTOP\\AppData\\Roaming\\nltk_data...\n",
      "[nltk_data]   Package omw-1.4 is already up-to-date!\n"
     ]
    },
    {
     "data": {
      "text/plain": [
       "True"
      ]
     },
     "execution_count": 50,
     "metadata": {},
     "output_type": "execute_result"
    }
   ],
   "source": [
    "nltk.download(\"stopwords\")\n",
    "stop_words = set(stopwords.words(\"english\"))\n",
    "\n",
    "lemmatizer= WordNetLemmatizer()\n",
    "\n",
    "nltk.download('wordnet')\n",
    "nltk.download('omw-1.4')"
   ]
  },
  {
   "cell_type": "code",
   "execution_count": 51,
   "id": "7ca0aad6-6701-4307-ba39-a48678d25f53",
   "metadata": {},
   "outputs": [],
   "source": [
    "def try_rm_dupl_df(df: pd.DataFrame):\n",
    "\n",
    "    index = df[df.duplicated() == True].index\n",
    "    df.drop(index, axis = 0, inplace = True)\n",
    "    df.reset_index(inplace=True, drop = True)\n",
    "\n",
    "    #removing duplicated text\n",
    "    index = df[df['Text'].duplicated() == True].index\n",
    "    df.drop(index, axis = 0, inplace = True)\n",
    "    df.reset_index(inplace=True, drop = True)"
   ]
  },
  {
   "cell_type": "code",
   "execution_count": 52,
   "id": "dd2dd479-db20-442c-8eaa-c8a992836a50",
   "metadata": {},
   "outputs": [],
   "source": [
    "df_train = pd.read_csv(path_train_txt, names=['Text', 'Emotion'], sep=';')\n",
    "df_val = pd.read_csv(path_val_txt, names=['Text', 'Emotion'], sep=';')\n",
    "df_test = pd.read_csv(path_test_txt, names=['Text', 'Emotion'], sep=';')\n",
    "\n",
    "try_rm_dupl_df(df_train)\n",
    "try_rm_dupl_df(df_val)\n",
    "try_rm_dupl_df(df_test)"
   ]
  },
  {
   "cell_type": "code",
   "execution_count": 53,
   "id": "3c6687c6-2e9b-4eb9-ac28-106e383080fc",
   "metadata": {},
   "outputs": [],
   "source": [
    "def dataframe_difference(df1, df2, which=None):\n",
    "    \"\"\"Find rows which are different between two DataFrames.\"\"\"\n",
    "\n",
    "    # Combine the two DataFrames using a merge operation, with the\n",
    "    # indicator parameter set to True. This adds a column called _merge\n",
    "    # to the resulting DataFrame, which indicates the source of each row.\n",
    "    comparison_df = df1.merge(\n",
    "        df2,\n",
    "        indicator=True,\n",
    "        how='outer'\n",
    "    )\n",
    "\n",
    "    # Filter the merged DataFrame based on the value of _merge. If which\n",
    "    # is not specified, return all rows where _merge is not 'both'.\n",
    "    # Otherwise, return all rows where _merge has the specified value\n",
    "    if which is None:\n",
    "        diff_df = comparison_df[comparison_df['_merge'] != 'both']\n",
    "    else:\n",
    "        diff_df = comparison_df[comparison_df['_merge'] == which]\n",
    "\n",
    "    # Return the filtered DataFrame\n",
    "    return diff_df"
   ]
  },
  {
   "cell_type": "code",
   "execution_count": 54,
   "id": "9d807e76-4436-4e7a-b11f-9a39e477dab0",
   "metadata": {},
   "outputs": [
    {
     "data": {
      "text/html": [
       "<div>\n",
       "<style scoped>\n",
       "    .dataframe tbody tr th:only-of-type {\n",
       "        vertical-align: middle;\n",
       "    }\n",
       "\n",
       "    .dataframe tbody tr th {\n",
       "        vertical-align: top;\n",
       "    }\n",
       "\n",
       "    .dataframe thead th {\n",
       "        text-align: right;\n",
       "    }\n",
       "</style>\n",
       "<table border=\"1\" class=\"dataframe\">\n",
       "  <thead>\n",
       "    <tr style=\"text-align: right;\">\n",
       "      <th></th>\n",
       "      <th>Text</th>\n",
       "      <th>Emotion</th>\n",
       "      <th>_merge</th>\n",
       "    </tr>\n",
       "  </thead>\n",
       "  <tbody>\n",
       "  </tbody>\n",
       "</table>\n",
       "</div>"
      ],
      "text/plain": [
       "Empty DataFrame\n",
       "Columns: [Text, Emotion, _merge]\n",
       "Index: []"
      ]
     },
     "execution_count": 54,
     "metadata": {},
     "output_type": "execute_result"
    }
   ],
   "source": [
    "dataframe_difference(df_train, df_test, which='both')"
   ]
  },
  {
   "cell_type": "code",
   "execution_count": 55,
   "id": "e8c8897b-1dc9-4a79-a4b1-5273a6a1d002",
   "metadata": {},
   "outputs": [
    {
     "data": {
      "text/html": [
       "<div>\n",
       "<style scoped>\n",
       "    .dataframe tbody tr th:only-of-type {\n",
       "        vertical-align: middle;\n",
       "    }\n",
       "\n",
       "    .dataframe tbody tr th {\n",
       "        vertical-align: top;\n",
       "    }\n",
       "\n",
       "    .dataframe thead th {\n",
       "        text-align: right;\n",
       "    }\n",
       "</style>\n",
       "<table border=\"1\" class=\"dataframe\">\n",
       "  <thead>\n",
       "    <tr style=\"text-align: right;\">\n",
       "      <th></th>\n",
       "      <th>Text</th>\n",
       "      <th>Emotion</th>\n",
       "      <th>_merge</th>\n",
       "    </tr>\n",
       "  </thead>\n",
       "  <tbody>\n",
       "  </tbody>\n",
       "</table>\n",
       "</div>"
      ],
      "text/plain": [
       "Empty DataFrame\n",
       "Columns: [Text, Emotion, _merge]\n",
       "Index: []"
      ]
     },
     "execution_count": 55,
     "metadata": {},
     "output_type": "execute_result"
    }
   ],
   "source": [
    "dataframe_difference(df_train, df_val, which='both')"
   ]
  },
  {
   "cell_type": "code",
   "execution_count": 56,
   "id": "8bc15feb-c980-4c24-982d-0da70bdc5afb",
   "metadata": {},
   "outputs": [
    {
     "data": {
      "text/html": [
       "<div>\n",
       "<style scoped>\n",
       "    .dataframe tbody tr th:only-of-type {\n",
       "        vertical-align: middle;\n",
       "    }\n",
       "\n",
       "    .dataframe tbody tr th {\n",
       "        vertical-align: top;\n",
       "    }\n",
       "\n",
       "    .dataframe thead th {\n",
       "        text-align: right;\n",
       "    }\n",
       "</style>\n",
       "<table border=\"1\" class=\"dataframe\">\n",
       "  <thead>\n",
       "    <tr style=\"text-align: right;\">\n",
       "      <th></th>\n",
       "      <th>Text</th>\n",
       "      <th>Emotion</th>\n",
       "      <th>_merge</th>\n",
       "    </tr>\n",
       "  </thead>\n",
       "  <tbody>\n",
       "  </tbody>\n",
       "</table>\n",
       "</div>"
      ],
      "text/plain": [
       "Empty DataFrame\n",
       "Columns: [Text, Emotion, _merge]\n",
       "Index: []"
      ]
     },
     "execution_count": 56,
     "metadata": {},
     "output_type": "execute_result"
    }
   ],
   "source": [
    "dataframe_difference(df_val, df_test, which='both')"
   ]
  },
  {
   "cell_type": "code",
   "execution_count": 57,
   "id": "cbcc264d-8415-4729-8984-124a41cce272",
   "metadata": {},
   "outputs": [],
   "source": [
    "def lemmatization(text):\n",
    "    lemmatizer= WordNetLemmatizer()\n",
    "\n",
    "    text = text.split()\n",
    "\n",
    "    text=[lemmatizer.lemmatize(y) for y in text]\n",
    "\n",
    "    return \" \" .join(text)\n",
    "\n",
    "def remove_stop_words(text):\n",
    "\n",
    "    Text=[i for i in str(text).split() if i not in stop_words]\n",
    "    return \" \".join(Text)\n",
    "\n",
    "def Removing_numbers(text):\n",
    "    text=''.join([i for i in text if not i.isdigit()])\n",
    "    return text\n",
    "\n",
    "def lower_case(text):\n",
    "\n",
    "    text = text.split()\n",
    "\n",
    "    text=[y.lower() for y in text]\n",
    "\n",
    "    return \" \" .join(text)\n",
    "\n",
    "# def Removing_punctuations(text):\n",
    "#     ## Remove punctuations\n",
    "#     text = re.sub('[%s]' % re.escape(\"\"\"!\"#$%&'()*+,،-./:;<=>؟?@[\\]^_`{|}~\"\"\"), ' ', text)\n",
    "#     text = text.replace('؛',\"\", )\n",
    "\n",
    "#     ## remove extra whitespace\n",
    "#     text = re.sub('\\s+', ' ', text)\n",
    "#     text =  \" \".join(text.split())\n",
    "#     return text.strip()\n",
    "\n",
    "def Removing_punctuations(text):\n",
    "    # Remove punctuations\n",
    "    text = re.sub(r'[%s]' % re.escape(\"\"\"!\"#$%&'()*+,،-./:;<=>؟?@[]^_`{|}~\"\"\"), ' ', text)\n",
    "    text = text.replace('؛', \"\")\n",
    "    \n",
    "    # Remove extra whitespace\n",
    "    text = re.sub(r'\\s+', ' ', text)\n",
    "    text = \" \".join(text.split())\n",
    "    return text.strip()\n",
    "\n",
    "\n",
    "def Removing_urls(text):\n",
    "    url_pattern = re.compile(r'https?://\\S+|www\\.\\S+')\n",
    "    return url_pattern.sub(r'', text)\n",
    "\n",
    "def remove_small_sentences(df):\n",
    "    for i in range(len(df)):\n",
    "        if len(df.text.iloc[i].split()) < 3:\n",
    "            df.text.iloc[i] = np.nan\n",
    "\n",
    "def normalized_sentence(sentence):\n",
    "    sentence= lower_case(sentence)\n",
    "    sentence= remove_stop_words(sentence)\n",
    "    sentence= Removing_numbers(sentence)\n",
    "    sentence= Removing_punctuations(sentence)\n",
    "    sentence= Removing_urls(sentence)\n",
    "    sentence= lemmatization(sentence)\n",
    "    return sentence\n",
    "\n",
    "def normalize_text(df):\n",
    "    df.Text=df.Text.apply(lambda text : lower_case(text))\n",
    "    df.Text=df.Text.apply(lambda text : remove_stop_words(text))\n",
    "    df.Text=df.Text.apply(lambda text : Removing_numbers(text))\n",
    "    df.Text=df.Text.apply(lambda text : Removing_punctuations(text))\n",
    "    df.Text=df.Text.apply(lambda text : Removing_urls(text))\n",
    "    df.Text=df.Text.apply(lambda text : lemmatization(text))\n",
    "    return df"
   ]
  },
  {
   "cell_type": "code",
   "execution_count": 58,
   "id": "399bf039-493e-4418-9fef-edf9bd234e6f",
   "metadata": {},
   "outputs": [],
   "source": [
    "df_train= normalize_text(df_train)\n",
    "df_test= normalize_text(df_test)\n",
    "df_val= normalize_text(df_val)"
   ]
  },
  {
   "cell_type": "code",
   "execution_count": 59,
   "id": "c9e65020-628e-4fc8-b2ee-c390be543c26",
   "metadata": {},
   "outputs": [
    {
     "name": "stdout",
     "output_type": "stream",
     "text": [
      "{0, 1, 2, 3, 4, 5}\n"
     ]
    },
    {
     "data": {
      "text/plain": [
       "array(['anger', 'fear', 'joy', 'love', 'sadness', 'surprise'],\n",
       "      dtype=object)"
      ]
     },
     "execution_count": 59,
     "metadata": {},
     "output_type": "execute_result"
    }
   ],
   "source": [
    "#Splitting the text from the labels\n",
    "X_train = df_train['Text']\n",
    "y_train = df_train['Emotion']\n",
    "\n",
    "X_test = df_test['Text']\n",
    "y_test = df_test['Emotion']\n",
    "\n",
    "X_val = df_val['Text']\n",
    "y_val = df_val['Emotion']\n",
    "\n",
    "# Encode labels\n",
    "le = LabelEncoder()\n",
    "y_train = le.fit_transform(y_train)\n",
    "y_test = le.transform(y_test)\n",
    "y_val = le.transform(y_val)\n",
    "\n",
    "#print the labels after encoding\n",
    "print(set(y_train))\n",
    "\n",
    "#Convert the class vector (integers) to binary class matrix\n",
    "y_train = to_categorical(y_train)\n",
    "y_test = to_categorical(y_test)\n",
    "y_val = to_categorical(y_val)\n",
    "\n",
    "# Tokenize words\n",
    "tokenizer = Tokenizer(oov_token='UNK')\n",
    "tokenizer.fit_on_texts(pd.concat([X_train, X_test], axis=0))\n",
    "\n",
    "le.classes_"
   ]
  },
  {
   "cell_type": "code",
   "execution_count": 60,
   "id": "b6bbb04c-6952-4cdc-a368-b118e6c7f132",
   "metadata": {},
   "outputs": [
    {
     "name": "stdout",
     "output_type": "stream",
     "text": [
      "17969\n",
      "220\n",
      "[[53], [2], [531]]\n",
      "(3, 14325)\n"
     ]
    }
   ],
   "source": [
    "# test\n",
    "\n",
    "#document count: A dictionary of words and how many documents each appeared in.\n",
    "#in this dataset the output will be the number of rows\n",
    "print(tokenizer.document_count)\n",
    "#print the index of a single word\n",
    "print(tokenizer.word_index['towards'])\n",
    "#converting a single sentence to list of indexes\n",
    "print(tokenizer.texts_to_sequences(X_train[0].split()))\n",
    "#the sentence contains three words and the size of the vocabulary is 14325\n",
    "print(tokenizer.texts_to_matrix(X_train[0].split()).shape)"
   ]
  },
  {
   "cell_type": "code",
   "execution_count": 61,
   "id": "70775653-416c-4b8b-9ee0-a56775017746",
   "metadata": {},
   "outputs": [
    {
     "name": "stdout",
     "output_type": "stream",
     "text": [
      "229\n",
      "Vocabulary size = 14325\n"
     ]
    }
   ],
   "source": [
    "maxlen = max([len(t) for t in df_train['Text']])\n",
    "print(maxlen)\n",
    "\n",
    "sequences_train = tokenizer.texts_to_sequences(X_train)\n",
    "sequences_test = tokenizer.texts_to_sequences(X_test)\n",
    "sequences_val = tokenizer.texts_to_sequences(X_val)\n",
    "\n",
    "X_train = pad_sequences(sequences_train, maxlen=229, truncating='pre')\n",
    "X_test = pad_sequences(sequences_test, maxlen=229, truncating='pre')\n",
    "X_val = pad_sequences(sequences_val, maxlen=229, truncating='pre')\n",
    "\n",
    "vocabSize = len(tokenizer.index_word) + 1\n",
    "print(f\"Vocabulary size = {vocabSize}\")"
   ]
  },
  {
   "cell_type": "code",
   "execution_count": 62,
   "id": "50667d96-d4cd-4639-9fb5-71fe636e2d6b",
   "metadata": {},
   "outputs": [
    {
     "name": "stdout",
     "output_type": "stream",
     "text": [
      "[53, 2, 531]\n",
      "[  0   0   0   0   0   0   0   0   0   0   0   0   0   0   0   0   0   0\n",
      "   0   0   0   0   0   0   0   0   0   0   0   0   0   0   0   0   0   0\n",
      "   0   0   0   0   0   0   0   0   0   0   0   0   0   0   0   0   0   0\n",
      "   0   0   0   0   0   0   0   0   0   0   0   0   0   0   0   0   0   0\n",
      "   0   0   0   0   0   0   0   0   0   0   0   0   0   0   0   0   0   0\n",
      "   0   0   0   0   0   0   0   0   0   0   0   0   0   0   0   0   0   0\n",
      "   0   0   0   0   0   0   0   0   0   0   0   0   0   0   0   0   0   0\n",
      "   0   0   0   0   0   0   0   0   0   0   0   0   0   0   0   0   0   0\n",
      "   0   0   0   0   0   0   0   0   0   0   0   0   0   0   0   0   0   0\n",
      "   0   0   0   0   0   0   0   0   0   0   0   0   0   0   0   0   0   0\n",
      "   0   0   0   0   0   0   0   0   0   0   0   0   0   0   0   0   0   0\n",
      "   0   0   0   0   0   0   0   0   0   0   0   0   0   0   0   0   0   0\n",
      "   0   0   0   0   0   0   0   0   0   0  53   2 531]\n"
     ]
    }
   ],
   "source": [
    "# test\n",
    "\n",
    "#before\n",
    "print(sequences_train[0])\n",
    "#after\n",
    "print(X_train[0])"
   ]
  },
  {
   "cell_type": "code",
   "execution_count": 66,
   "id": "a01e2d4d-7e03-4906-a47c-0086ba211f25",
   "metadata": {},
   "outputs": [],
   "source": [
    "# model = tf.keras.models.load_model(path_model_saved)\n",
    "model = tf.keras.models.load_model(path_model_keras)\n",
    "# from keras.layers import TFSMLayer\n",
    "\n",
    "# # Tải mô hình SavedModel dưới dạng lớp TFSMLayer\n",
    "# path_model_saved = \"../models/t2es_rnn_tf\"\n",
    "# model = TFSMLayer(path_model_saved, call_endpoint=\"serving_default\")\n",
    "\n",
    "\n",
    "\n",
    "def predict(sentence):\n",
    "    print(sentence)\n",
    "    sentence = normalized_sentence(sentence)\n",
    "    sentence = tokenizer.texts_to_sequences([sentence])\n",
    "    sentence = pad_sequences(sentence, maxlen=229, truncating='pre')\n",
    "    result = le.inverse_transform(np.argmax(model.predict(sentence), axis=-1))[0]\n",
    "    proba =  np.max(model.predict(sentence))\n",
    "    print(f\"{result} : {proba}\\n\\n\")"
   ]
  },
  {
   "cell_type": "code",
   "execution_count": 67,
   "id": "0e652582-2203-4bdb-9101-fd2a093dd616",
   "metadata": {},
   "outputs": [
    {
     "name": "stdout",
     "output_type": "stream",
     "text": [
      "He's over the moon about being accepted to the university\n",
      "\u001b[1m1/1\u001b[0m \u001b[32m━━━━━━━━━━━━━━━━━━━━\u001b[0m\u001b[37m\u001b[0m \u001b[1m3s\u001b[0m 3s/step\n",
      "\u001b[1m1/1\u001b[0m \u001b[32m━━━━━━━━━━━━━━━━━━━━\u001b[0m\u001b[37m\u001b[0m \u001b[1m0s\u001b[0m 187ms/step\n",
      "joy : 0.8789979815483093\n",
      "\n",
      "\n",
      "Your point on this certain matter made me outrageous, how can you say so? This is insane.\n",
      "\u001b[1m1/1\u001b[0m \u001b[32m━━━━━━━━━━━━━━━━━━━━\u001b[0m\u001b[37m\u001b[0m \u001b[1m0s\u001b[0m 244ms/step\n",
      "\u001b[1m1/1\u001b[0m \u001b[32m━━━━━━━━━━━━━━━━━━━━\u001b[0m\u001b[37m\u001b[0m \u001b[1m0s\u001b[0m 201ms/step\n",
      "anger : 0.5059702396392822\n",
      "\n",
      "\n",
      "I can't do it, I'm not ready to lose anything, just leave me alone\n",
      "\u001b[1m1/1\u001b[0m \u001b[32m━━━━━━━━━━━━━━━━━━━━\u001b[0m\u001b[37m\u001b[0m \u001b[1m0s\u001b[0m 210ms/step\n",
      "\u001b[1m1/1\u001b[0m \u001b[32m━━━━━━━━━━━━━━━━━━━━\u001b[0m\u001b[37m\u001b[0m \u001b[1m0s\u001b[0m 191ms/step\n",
      "fear : 0.5253369808197021\n",
      "\n",
      "\n",
      "Merlin's beard harry, you can cast the Patronus charm! I'm amazed!\n",
      "\u001b[1m1/1\u001b[0m \u001b[32m━━━━━━━━━━━━━━━━━━━━\u001b[0m\u001b[37m\u001b[0m \u001b[1m0s\u001b[0m 213ms/step\n",
      "\u001b[1m1/1\u001b[0m \u001b[32m━━━━━━━━━━━━━━━━━━━━\u001b[0m\u001b[37m\u001b[0m \u001b[1m0s\u001b[0m 232ms/step\n",
      "surprise : 0.6571397185325623\n",
      "\n",
      "\n"
     ]
    }
   ],
   "source": [
    "# Define your input text\n",
    "sentences = [\n",
    "            \"He's over the moon about being accepted to the university\",\n",
    "            \"Your point on this certain matter made me outrageous, how can you say so? This is insane.\",\n",
    "            \"I can't do it, I'm not ready to lose anything, just leave me alone\",\n",
    "            \"Merlin's beard harry, you can cast the Patronus charm! I'm amazed!\"\n",
    "            ]\n",
    "\n",
    "for text in sentences:\n",
    "    predict(text)"
   ]
  },
  {
   "cell_type": "markdown",
   "id": "143b1b83-dd19-4662-ac26-d875167646e8",
   "metadata": {},
   "source": [
    "sentence= 'my old brother is dead'\n",
    "print(sentence)\n",
    "sentence = normalized_sentence(sentence)\n",
    "sentence = tokenizer.texts_to_sequences([sentence])\n",
    "sentence = pad_sequences(sentence, maxlen=229, truncating='pre')\n",
    "result = le.inverse_transform(np.argmax(model.predict(sentence), axis=-1))[0]\n",
    "proba =  np.max(model.predict(sentence))\n",
    "print(f\"{result} : {proba}\\n\\n\")"
   ]
  },
  {
   "cell_type": "code",
   "execution_count": 47,
   "id": "103e0da7-44a9-4820-943b-1f5f9290ec62",
   "metadata": {},
   "outputs": [
    {
     "name": "stdout",
     "output_type": "stream",
     "text": [
      "i miss you so much baby\n",
      "\u001b[1m1/1\u001b[0m \u001b[32m━━━━━━━━━━━━━━━━━━━━\u001b[0m\u001b[37m\u001b[0m \u001b[1m0s\u001b[0m 211ms/step\n",
      "\u001b[1m1/1\u001b[0m \u001b[32m━━━━━━━━━━━━━━━━━━━━\u001b[0m\u001b[37m\u001b[0m \u001b[1m0s\u001b[0m 269ms/step\n",
      "fear : 0.3133397698402405\n",
      "\n",
      "\n"
     ]
    }
   ],
   "source": [
    "sentence= 'i miss you so much baby'\n",
    "print(sentence)\n",
    "sentence = normalized_sentence(sentence)\n",
    "sentence = tokenizer.texts_to_sequences([sentence])\n",
    "sentence = pad_sequences(sentence, maxlen=229, truncating='pre')\n",
    "result = le.inverse_transform(np.argmax(model.predict(sentence), axis=-1))[0]\n",
    "proba =  np.max(model.predict(sentence))\n",
    "print(f\"{result} : {proba}\\n\\n\")"
   ]
  },
  {
   "cell_type": "markdown",
   "id": "247a687a-31f5-4959-a86a-41af2c301210",
   "metadata": {},
   "source": [
    "can"
   ]
  }
 ],
 "metadata": {
  "kernelspec": {
   "display_name": "Python 3 (ipykernel)",
   "language": "python",
   "name": "python3"
  },
  "language_info": {
   "codemirror_mode": {
    "name": "ipython",
    "version": 3
   },
   "file_extension": ".py",
   "mimetype": "text/x-python",
   "name": "python",
   "nbconvert_exporter": "python",
   "pygments_lexer": "ipython3",
   "version": "3.12.3"
  }
 },
 "nbformat": 4,
 "nbformat_minor": 5
}
